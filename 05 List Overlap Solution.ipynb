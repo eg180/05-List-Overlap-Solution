{
 "cells": [
  {
   "cell_type": "markdown",
   "metadata": {},
   "source": [
    "## Exercise 5"
   ]
  },
  {
   "cell_type": "markdown",
   "metadata": {},
   "source": [
    "By eg180"
   ]
  },
  {
   "cell_type": "markdown",
   "metadata": {},
   "source": [
    " *Original problem can be found here: https://www.practicepython.org/exercise/2014/03/05/05-list-overlap.html*"
   ]
  },
  {
   "cell_type": "markdown",
   "metadata": {},
   "source": [
    "#### List Overlap  \n",
    "Exercise 5 <br> \n",
    "*Take two lists, say for example these two:*\n",
    "\n",
    "  >a = [1, 1, 2, 3, 5, 8, 13, 21, 34, 55, 89]<br>\n",
    "  >b = [1, 2, 3, 4, 5, 6, 7, 8, 9, 10, 11, 12, 13]\n",
    "  \n",
    "  \n",
    "and write a program that returns a list that contains only the elements that are common between the lists (without duplicates). Make sure your program works on two lists of different sizes.\n",
    "\n",
    "\n",
    "Randomly generate two lists to test this.\n"
   ]
  },
  {
   "cell_type": "markdown",
   "metadata": {},
   "source": [
    "### eg180's Solution"
   ]
  },
  {
   "cell_type": "code",
   "execution_count": 9,
   "metadata": {},
   "outputs": [],
   "source": [
    "import random # This is a library that we import that will allow us to pick numbers at random."
   ]
  },
  {
   "cell_type": "code",
   "execution_count": 10,
   "metadata": {},
   "outputs": [],
   "source": [
    "# Here we initialize the two empty lists into which we will add our randomly generated lists that we'll later compare.\n",
    "list1 = []\n",
    "list2 = []\n"
   ]
  },
  {
   "cell_type": "code",
   "execution_count": 11,
   "metadata": {},
   "outputs": [],
   "source": [
    "unionList = [] # This is where we'll keep track of the numbers they have in common, if any.\n"
   ]
  },
  {
   "cell_type": "code",
   "execution_count": 12,
   "metadata": {},
   "outputs": [
    {
     "name": "stdout",
     "output_type": "stream",
     "text": [
      "List1:  [9, 2, 7, 6, 6, 1, 4, 9, 6] \n",
      "List2:  [2, 9, 7, 6, 8, 5, 10, 4, 6] \n",
      "The common numbers between List1 and List2 are:  [9, 2, 7, 6, 4]\n"
     ]
    }
   ],
   "source": [
    "for i in range(1,10): # This allows us to create 10 elements in the list\n",
    "    list1.extend([random.randint(1,10)]) # This adds the random element (number) to our first list.\n",
    "\n",
    "for i in range(1,10):\n",
    "    list2.extend([random.randint(1,10)]) # This adds the random element (number) to our second list.\n",
    "\n",
    "for ele in list1: # This block of code compares the elements in list1 and list2 and adds it to unionList to track the common numbers.\n",
    "    if ele in list2 and ele not in unionList:\n",
    "        unionList.extend([ele]) \n",
    "\n",
    "print(\"List1: \", list1, \"\\nList2: \",list2, \"\\nThe common numbers between List1 and List2 are: \", unionList)"
   ]
  },
  {
   "cell_type": "code",
   "execution_count": null,
   "metadata": {},
   "outputs": [],
   "source": []
  }
 ],
 "metadata": {
  "kernelspec": {
   "display_name": "Python 3",
   "language": "python",
   "name": "python3"
  },
  "language_info": {
   "codemirror_mode": {
    "name": "ipython",
    "version": 3
   },
   "file_extension": ".py",
   "mimetype": "text/x-python",
   "name": "python",
   "nbconvert_exporter": "python",
   "pygments_lexer": "ipython3",
   "version": "3.7.4"
  }
 },
 "nbformat": 4,
 "nbformat_minor": 2
}
